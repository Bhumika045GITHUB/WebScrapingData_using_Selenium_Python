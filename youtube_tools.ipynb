{
  "nbformat": 4,
  "nbformat_minor": 0,
  "metadata": {
    "colab": {
      "provenance": [],
      "authorship_tag": "ABX9TyOfnRlwffu9ATY2kBIhmNHl",
      "include_colab_link": true
    },
    "kernelspec": {
      "name": "python3",
      "display_name": "Python 3"
    },
    "language_info": {
      "name": "python"
    }
  },
  "cells": [
    {
      "cell_type": "markdown",
      "metadata": {
        "id": "view-in-github",
        "colab_type": "text"
      },
      "source": [
        "<a href=\"https://colab.research.google.com/github/Bhumika045GITHUB/Bhumika045GITHUB/blob/main/youtube_tools.ipynb\" target=\"_parent\"><img src=\"https://colab.research.google.com/assets/colab-badge.svg\" alt=\"Open In Colab\"/></a>"
      ]
    },
    {
      "cell_type": "code",
      "execution_count": 3,
      "metadata": {
        "colab": {
          "base_uri": "https://localhost:8080/",
          "height": 393
        },
        "id": "4uWwMhjpfVNs",
        "outputId": "0dba58ef-26e9-42a1-c44e-83b694970917"
      },
      "outputs": [
        {
          "output_type": "error",
          "ename": "ModuleNotFoundError",
          "evalue": "ignored",
          "traceback": [
            "\u001b[0;31m---------------------------------------------------------------------------\u001b[0m",
            "\u001b[0;31mModuleNotFoundError\u001b[0m                       Traceback (most recent call last)",
            "\u001b[0;32m<ipython-input-3-e67efc057737>\u001b[0m in \u001b[0;36m<cell line: 1>\u001b[0;34m()\u001b[0m\n\u001b[0;32m----> 1\u001b[0;31m \u001b[0;32mfrom\u001b[0m \u001b[0mselenium\u001b[0m \u001b[0;32mimport\u001b[0m \u001b[0mwebdriver\u001b[0m\u001b[0;34m\u001b[0m\u001b[0;34m\u001b[0m\u001b[0m\n\u001b[0m\u001b[1;32m      2\u001b[0m \u001b[0;32mfrom\u001b[0m \u001b[0mselenium\u001b[0m\u001b[0;34m.\u001b[0m\u001b[0mwebdriver\u001b[0m\u001b[0;34m.\u001b[0m\u001b[0mchrome\u001b[0m\u001b[0;34m.\u001b[0m\u001b[0moptions\u001b[0m \u001b[0;32mimport\u001b[0m \u001b[0mOptions\u001b[0m\u001b[0;34m\u001b[0m\u001b[0;34m\u001b[0m\u001b[0m\n\u001b[1;32m      3\u001b[0m \u001b[0;32mimport\u001b[0m \u001b[0mtime\u001b[0m\u001b[0;34m\u001b[0m\u001b[0;34m\u001b[0m\u001b[0m\n\u001b[1;32m      4\u001b[0m \u001b[0;32mfrom\u001b[0m \u001b[0mselenium\u001b[0m\u001b[0;34m.\u001b[0m\u001b[0mwebdriver\u001b[0m\u001b[0;34m.\u001b[0m\u001b[0mcommon\u001b[0m\u001b[0;34m.\u001b[0m\u001b[0mby\u001b[0m \u001b[0;32mimport\u001b[0m \u001b[0mBy\u001b[0m\u001b[0;34m\u001b[0m\u001b[0;34m\u001b[0m\u001b[0m\n\u001b[1;32m      5\u001b[0m \u001b[0;32mfrom\u001b[0m \u001b[0mselenium\u001b[0m\u001b[0;34m.\u001b[0m\u001b[0mwebdriver\u001b[0m\u001b[0;34m.\u001b[0m\u001b[0mcommon\u001b[0m\u001b[0;34m.\u001b[0m\u001b[0mkeys\u001b[0m \u001b[0;32mimport\u001b[0m \u001b[0mKeys\u001b[0m\u001b[0;34m\u001b[0m\u001b[0;34m\u001b[0m\u001b[0m\n",
            "\u001b[0;31mModuleNotFoundError\u001b[0m: No module named 'selenium'",
            "",
            "\u001b[0;31m---------------------------------------------------------------------------\u001b[0;32m\nNOTE: If your import is failing due to a missing package, you can\nmanually install dependencies using either !pip or !apt.\n\nTo view examples of installing some common dependencies, click the\n\"Open Examples\" button below.\n\u001b[0;31m---------------------------------------------------------------------------\u001b[0m\n"
          ],
          "errorDetails": {
            "actions": [
              {
                "action": "open_url",
                "actionText": "Open Examples",
                "url": "/notebooks/snippets/importing_libraries.ipynb"
              }
            ]
          }
        }
      ],
      "source": [
        "from selenium import webdriver\n",
        "from selenium.webdriver.chrome.options import Options\n",
        "import time\n",
        "from selenium.webdriver.common.by import By\n",
        "from selenium.webdriver.common.keys import Keys\n",
        "from selenium.webdriver.support.ui import WebDriverWait\n",
        "from selenium.webdriver.support import expected_conditions as EC\n",
        "from selenium.common.exceptions import TimeoutException\n",
        "from collections import Counter\n",
        "\n",
        "# Function to scrape LinkedIn job postings and extract skills\n",
        "def scrape_linkedin_jobs(keyword, num_pages):\n",
        "    job_skills = []\n",
        "\n",
        "    # Set up options for the Chrome WebDriver\n",
        "    options = webdriver.ChromeOptions()\n",
        "    options.add_argument('--headless')  # Run Chrome in headless mode (optional)\n",
        "    options.add_argument(\"--no-sandbox\")\n",
        "\n",
        "    # Start a Selenium WebDriver with options\n",
        "    driver = webdriver.Chrome(options=options)\n",
        "\n",
        "\n",
        "    url = f'https://www.linkedin.com/jobs/search/?keywords={keyword}'\n",
        "    driver.get(url)\n",
        "    j = 0\n",
        "    # Scroll to load more jobs (you may need to adjust the number of scrolls)\n",
        "    for _ in range(num_pages):\n",
        "        print(\"scroll ######\",j)\n",
        "        j = j+1\n",
        "        driver.find_element(By.TAG_NAME, 'body').send_keys(Keys.END)\n",
        "        time.sleep(2)  # Wait for content to load\n",
        "\n",
        "    # Extract job titles and skills (modify as needed)\n",
        "    job_cards = driver.find_elements(By.CSS_SELECTOR, '.base-card')\n",
        "    break_element = 0\n",
        "    for card in job_cards:\n",
        "        try:\n",
        "\n",
        "            job_title_element = WebDriverWait(card, 10)\\\n",
        "            .until(EC.presence_of_element_located((By.CSS_SELECTOR, '.base-search-card__title')))\n",
        "            company_element = WebDriverWait(card, 10)\\\n",
        "            .until(EC.presence_of_element_located((By.CSS_SELECTOR, '.base-search-card__subtitle')))\n",
        "            description = WebDriverWait(card, 10)\\\n",
        "            .until(EC.presence_of_element_located((By.CSS_SELECTOR, '.base-card__full-link')))\n",
        "\n",
        "\n",
        "            company_name = company_element.text\n",
        "            job_title = job_title_element.text\n",
        "            print(job_title, \" \", company_name)\n",
        "            job_link = description.get_attribute('href')\n",
        "            print(job_link)\n",
        "\n",
        "            #Hitting each job's URL to get more information\n",
        "            job_driver = webdriver.Chrome(options=options)\n",
        "            job_driver.get(job_link)\n",
        "\n",
        "            #expand descriptions by clicking on show more\n",
        "            expand_description(job_driver)\n",
        "            #extract description element\n",
        "            job_description = extract_job_description(job_driver)\n",
        "            #extract skills from description\n",
        "            extracted_skills = extract_skills(job_description)\n",
        "            job_skills.append(extracted_skills)\n",
        "            job_driver.quit()\n",
        "\n",
        "        except Exception as e:\n",
        "            print(\"Job details not found for this card.\")\n",
        "            continue\n",
        "\n",
        "    # Close the WebDriver when done\n",
        "    driver.quit()\n",
        "\n",
        "    #print(job_skills)\n",
        "\n",
        "    return job_skills\n",
        "\n",
        "\n",
        "# Function to extract job description using JavaScript\n",
        "def extract_job_description(driver):\n",
        "    try:\n",
        "        # Wait for the job description element to be present (you can adjust the timeout)\n",
        "        WebDriverWait(driver, 10).until(EC.presence_of_element_located((By.CSS_SELECTOR, '.description')))\n",
        "\n",
        "        # Execute JavaScript code to extract job description\n",
        "        job_description = driver.execute_script(\"return document.querySelector('.description').textContent\")\n",
        "        return job_description\n",
        "    except TimeoutException:\n",
        "        return \"Job description not found or couldn't be loaded\"\n",
        "\n",
        "# Function to expand job description by clicking \"show more\" if available\n",
        "def expand_description(driver):\n",
        "    try:\n",
        "        show_more_button = WebDriverWait(card, 10)\\\n",
        "            .until(EC.presence_of_element_located((By.CSS_SELECTOR, '.show-more-less-html__button')))\n",
        "\n",
        "        show_more_button.click()\n",
        "        time.sleep(2)  # Wait for the description to expand\n",
        "    except Exception as e:\n",
        "        pass  # No \"show more\" button found or error occurred\n",
        "\n",
        "\n",
        "# Function to extract skills from a job title\n",
        "def extract_skills(description):\n",
        "    # This is a basic example, you can extend this to match more skills\n",
        "    skills = ['PostgreSQL','Snowflake','Databricks','Redshift','BigQuery','MongoDB','MySQL',\n",
        "              'Kafka','Kinesis','PubSub','Pub/sub','event hub','Airflow','dbt','NiFi', 'Fivetran',\n",
        "            'Collibra','Denodo','presto','Starburst','Immuta','PowerBI','Tableau','Looker',\n",
        "             'Matillion','Alteryx','Informatica','Talend','EMR','Dataproc','Synapse']\n",
        "    description = description.lower()\n",
        "    skills_list = [skill for skill in skills if skill.lower() in description]\n",
        "    print(skills_list)\n",
        "    return skills_list\n",
        "\n",
        "# Main function\n",
        "if __name__ == \"__main__\":\n",
        "    keyword = \"data%20engineer\"\n",
        "    num_pages = 20 # You can adjust the number of pages to scrape\n",
        "\n",
        "    job_skills = scrape_linkedin_jobs(keyword, num_pages)\n",
        "\n",
        "    print(f'Data engineer jobs: {len(job_skills)}')\n",
        "\n",
        "    flattened_skills = [skill for sublist in job_skills for skill in sublist]\n",
        "    skill_counts = Counter(flattened_skills)\n",
        "    top_skills = skill_counts.most_common(30)\n",
        "\n",
        "    for skill, count in top_skills:\n",
        "        print(f'{skill}: {count}')"
      ]
    }
  ]
}